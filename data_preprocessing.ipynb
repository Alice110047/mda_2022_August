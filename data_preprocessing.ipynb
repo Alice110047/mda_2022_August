{
 "cells": [
  {
   "cell_type": "markdown",
   "source": [
    "# Read data"
   ],
   "metadata": {
    "collapsed": false,
    "pycharm": {
     "name": "#%% md\n"
    }
   }
  },
  {
   "cell_type": "code",
   "execution_count": 1,
   "outputs": [],
   "source": [
    "import pandas as pd\n",
    "import spacy\n",
    "import udf"
   ],
   "metadata": {
    "collapsed": false,
    "pycharm": {
     "name": "#%%\n"
    }
   }
  },
  {
   "cell_type": "code",
   "execution_count": 2,
   "outputs": [],
   "source": [
    "df = pd.read_csv(\"obama_speech.csv\")"
   ],
   "metadata": {
    "collapsed": false,
    "pycharm": {
     "name": "#%%\n"
    }
   }
  },
  {
   "cell_type": "code",
   "execution_count": 3,
   "outputs": [],
   "source": [
    "df['text'] = df['text'].apply(lambda x: udf.clean.allowed(x))"
   ],
   "metadata": {
    "collapsed": false,
    "pycharm": {
     "name": "#%%\n"
    }
   }
  },
  {
   "cell_type": "code",
   "execution_count": 4,
   "outputs": [],
   "source": [
    "df['title'] = df['title'].apply(lambda x: udf.clean.title(x))"
   ],
   "metadata": {
    "collapsed": false,
    "pycharm": {
     "name": "#%%\n"
    }
   }
  },
  {
   "cell_type": "code",
   "execution_count": 5,
   "outputs": [],
   "source": [
    "df.iloc[0,2] = df.iloc[0,2][df.iloc[0,2].find('[Chief Justice John G. \\r\\n\\t\\tRoberts administers the Oath of Office]')\n",
    "                         +len('[Chief Justice John G. \\r\\n\\t\\tRoberts administers the Oath of Office]'):df.iloc[0,2].find('(Drudge Report)')].strip()\n",
    "df.iloc[1,2] = df.iloc[1,2][df.iloc[1,2].find('[as prepared for delivery]')+len('[as prepared for delivery]'):].strip()\n",
    "df.iloc[2,2] = df.iloc[2,2][df.iloc[2,2].find('[AUTHENTICITY CERTIFIED: Text version below \\r\\ntranscribed directly from edited audio above]')\n",
    "                         +len('[AUTHENTICITY CERTIFIED: Text version below \\r\\ntranscribed directly from edited audio above]'):].strip()\n",
    "df.iloc[3,2] = df.iloc[3,2][df.iloc[3,2].find('pdf')+len('pdf'):].strip()"
   ],
   "metadata": {
    "collapsed": false,
    "pycharm": {
     "name": "#%%\n"
    }
   }
  },
  {
   "cell_type": "markdown",
   "source": [
    "# Named entity recognition"
   ],
   "metadata": {
    "collapsed": false,
    "pycharm": {
     "name": "#%% md\n"
    }
   }
  },
  {
   "cell_type": "code",
   "execution_count": 6,
   "outputs": [],
   "source": [
    "df['text_removed'] = df['text'].apply(lambda x: udf.clean.remove(x))"
   ],
   "metadata": {
    "collapsed": false,
    "pycharm": {
     "name": "#%%\n"
    }
   }
  },
  {
   "cell_type": "code",
   "execution_count": 7,
   "outputs": [],
   "source": [
    "nlp = spacy.load('en_core_web_lg')\n",
    "tokens_sent = []\n",
    "for summary in nlp.pipe(df['text_removed']):\n",
    "   tok = [token.lemma_.lower() for token in summary if token.is_alpha is True and token.is_stop is False]\n",
    "   tokens_sent.append(tok)"
   ],
   "metadata": {
    "collapsed": false,
    "pycharm": {
     "name": "#%%\n"
    }
   }
  },
  {
   "cell_type": "code",
   "execution_count": 8,
   "outputs": [],
   "source": [
    "df['processed_for_sentiment'] = tokens_sent\n",
    "df['processed_for_sentiment'] = df['processed_for_sentiment'].apply(lambda x: \" \".join(x))"
   ],
   "metadata": {
    "collapsed": false,
    "pycharm": {
     "name": "#%%\n"
    }
   }
  },
  {
   "cell_type": "code",
   "execution_count": 9,
   "outputs": [],
   "source": [
    "removal= ['ADV','PRON','CCONJ','PUNCT','PART','DET','ADP','SPACE', 'NUM', 'SYM','ADJ','DET']# Verb possible\n",
    "tokens_lda = []\n",
    "for summary in nlp.pipe(df['processed_for_sentiment']):\n",
    "   proj_tok = [token.lemma_ for token in summary if token.pos_ not in removal]\n",
    "   tokens_lda.append(proj_tok)"
   ],
   "metadata": {
    "collapsed": false,
    "pycharm": {
     "name": "#%%\n"
    }
   }
  },
  {
   "cell_type": "code",
   "execution_count": 10,
   "outputs": [],
   "source": [
    "df['processed_for_lda'] = tokens_lda\n",
    "df['processed_for_lda'] = df['processed_for_lda'].apply(lambda x: \" \".join(x))"
   ],
   "metadata": {
    "collapsed": false,
    "pycharm": {
     "name": "#%%\n"
    }
   }
  },
  {
   "cell_type": "code",
   "execution_count": 11,
   "outputs": [
    {
     "name": "stdout",
     "output_type": "stream",
     "text": [
      "[('people', 7572), ('go', 5404), ('work', 4739), ('country', 4010), ('think', 3982), ('want', 3759), ('know', 3741), ('president', 3542), ('time', 3399), ('world', 3337), ('get', 3234), ('america', 3074), ('come', 3021), ('say', 2816), ('need', 2594), ('way', 2544), ('help', 2441), ('united', 2349), ('nation', 2310), ('thing', 2282), ('states', 2239), ('job', 2235), ('thank', 2174), ('government', 2115), ('question', 1859), ('family', 1834), ('change', 1781), ('life', 1761), ('let', 1746), ('look', 1739), ('americans', 1735), ('take', 1733), ('care', 1622), ('make', 1591), ('economy', 1582), ('health', 1573), ('business', 1546), ('see', 1484), ('believe', 1484), ('security', 1482), ('community', 1440), ('issue', 1435), ('place', 1434), ('support', 1423), ('continue', 1412), ('law', 1402), ('war', 1384), ('try', 1363), ('start', 1335), ('lot', 1332), ('child', 1318), ('state', 1311), ('mean', 1304), ('happen', 1272), ('man', 1236), ('woman', 1188), ('build', 1156), ('system', 1151), ('stand', 1138), ('talk', 1136), ('pay', 1126), ('give', 1105), ('like', 1090), ('meet', 1074), ('include', 1074), ('tell', 1063), ('obama', 1061), ('problem', 1058), ('end', 1056), ('leader', 1056), ('create', 1049), ('effort', 1049), ('opportunity', 1046), ('fact', 1014), ('ask', 1003), ('challenge', 1002), ('force', 998), ('bring', 988), ('find', 972), ('deal', 957), ('lead', 944), ('iran', 940), ('fight', 929), ('progress', 926), ('reform', 923), ('understand', 917), ('folk', 904), ('point', 893), ('cut', 892), ('insurance', 891), ('power', 890), ('company', 889), ('home', 879), ('term', 872), ('history', 869), ('grow', 857), ('energy', 853), ('peace', 846), ('plan', 842), ('hope', 837)]\n"
     ]
    }
   ],
   "source": [
    "most_noun = udf.clean.most_occur(df['processed_for_lda'])\n",
    "print(most_noun)"
   ],
   "metadata": {
    "collapsed": false,
    "pycharm": {
     "name": "#%%\n"
    }
   }
  },
  {
   "cell_type": "code",
   "execution_count": 12,
   "outputs": [
    {
     "name": "stdout",
     "output_type": "stream",
     "text": [
      "[('people', 7571), ('go', 5405), ('work', 4715), ('country', 4006), ('think', 3893), ('know', 3815), ('want', 3761), ('president', 3534), ('time', 3393), ('right', 3343), ('world', 3338), ('get', 3108), ('like', 3093), ('america', 3073), ('come', 3029), ('say', 2809), ('good', 2731), ('way', 2650), ('need', 2595), ('new', 2579), ('american', 2478), ('united', 2390), ('help', 2390), ('states', 2358), ('nation', 2288), ('thing', 2283), ('job', 2227), ('thank', 2194), ('government', 2115), ('question', 1859), ('family', 1830), ('americans', 1812), ('sure', 1810), ('change', 1780), ('life', 1761), ('let', 1745), ('look', 1737), ('take', 1717), ('great', 1698), ('care', 1618), ('economy', 1580), ('health', 1573), ('make', 1564), ('business', 1542), ('well', 1484), ('believe', 1484), ('see', 1483), ('security', 1482), ('community', 1438), ('place', 1434), ('issue', 1434), ('support', 1422), ('long', 1409), ('continue', 1403), ('law', 1400), ('young', 1395), ('mean', 1393), ('war', 1376), ('try', 1361), ('lot', 1346), ('future', 1337), ('start', 1327), ('child', 1315), ('happen', 1283), ('hard', 1239), ('everybody', 1230), ('man', 1229), ('important', 1218), ('state', 1193), ('woman', 1182), ('system', 1151), ('talk', 1134), ('stand', 1133), ('pay', 1124), ('build', 1121), ('able', 1109), ('give', 1103), ('include', 1073), ('home', 1070), ('tell', 1065), ('obama', 1061), ('problem', 1059), ('opportunity', 1057), ('strong', 1056), ('end', 1054), ('create', 1050), ('effort', 1048), ('leader', 1040), ('fact', 1014), ('lead', 1008), ('meet', 1007), ('ask', 1002), ('million', 991), ('challenge', 989), ('bring', 987), ('force', 977), ('military', 972), ('deal', 955), ('live', 952), ('high', 949)]\n"
     ]
    }
   ],
   "source": [
    "most_noun = udf.clean.most_occur(df['processed_for_sentiment'])\n",
    "print(most_noun)"
   ],
   "metadata": {
    "collapsed": false,
    "pycharm": {
     "name": "#%%\n"
    }
   }
  },
  {
   "cell_type": "markdown",
   "source": [
    "# Save dataframe"
   ],
   "metadata": {
    "collapsed": false,
    "pycharm": {
     "name": "#%% md\n"
    }
   }
  },
  {
   "cell_type": "code",
   "execution_count": 13,
   "outputs": [],
   "source": [
    "df_processed = df.drop(columns=['text_removed','text'])"
   ],
   "metadata": {
    "collapsed": false,
    "pycharm": {
     "name": "#%%\n"
    }
   }
  },
  {
   "cell_type": "code",
   "execution_count": 14,
   "outputs": [],
   "source": [
    "file_name = \"obama_speech_preprocessed.csv\"\n",
    "df_processed.to_csv(file_name, encoding='utf-8', index=False)"
   ],
   "metadata": {
    "collapsed": false,
    "pycharm": {
     "name": "#%%\n"
    }
   }
  },
  {
   "cell_type": "code",
   "execution_count": 14,
   "outputs": [],
   "source": [],
   "metadata": {
    "collapsed": false,
    "pycharm": {
     "name": "#%%\n"
    }
   }
  }
 ],
 "metadata": {
  "kernelspec": {
   "name": "conda-env-mda2022-py",
   "language": "python",
   "display_name": "Python [conda env:mda2022] *"
  },
  "language_info": {
   "codemirror_mode": {
    "name": "ipython",
    "version": 2
   },
   "file_extension": ".py",
   "mimetype": "text/x-python",
   "name": "python",
   "nbconvert_exporter": "python",
   "pygments_lexer": "ipython2",
   "version": "2.7.6"
  }
 },
 "nbformat": 4,
 "nbformat_minor": 0
}